{
 "cells": [
  {
   "cell_type": "code",
   "execution_count": 1,
   "id": "842eb027-9263-47cc-9c47-142a7b6e19ed",
   "metadata": {},
   "outputs": [],
   "source": [
    "from collections import defaultdict\n",
    "from functools import reduce\n",
    "from operator import mul"
   ]
  },
  {
   "cell_type": "code",
   "execution_count": 2,
   "id": "2cb1f0ec-ec62-4ba6-a8d9-57f19f922f5f",
   "metadata": {},
   "outputs": [],
   "source": [
    "def prime_generator(end: int):\n",
    "    def is_prime(n):\n",
    "        if n < 2: return False\n",
    "        return n & 1 and all(n % i != 0 for i in range(3, int(n ** 0.5) + 1, 2))\n",
    "    yield 2\n",
    "    for n in range(3, end + 1, 2):\n",
    "        if is_prime(n):\n",
    "            yield n"
   ]
  },
  {
   "cell_type": "code",
   "execution_count": 3,
   "id": "c40cf7cd-8db4-4300-bc62-3b756167e51d",
   "metadata": {},
   "outputs": [
    {
     "data": {
      "text/plain": [
       "defaultdict(int, {2: 4, 3: 2, 5: 1, 7: 1, 11: 1, 13: 1, 17: 1, 19: 1})"
      ]
     },
     "execution_count": 3,
     "metadata": {},
     "output_type": "execute_result"
    }
   ],
   "source": [
    "factor_map = defaultdict(int)\n",
    "for i in range(2, 21):\n",
    "    num = i\n",
    "    i_factors = defaultdict(int)\n",
    "    p_gen = prime_generator(i)\n",
    "    for j in p_gen:\n",
    "        while num % j == 0:\n",
    "            i_factors[j] += 1\n",
    "            num //= j\n",
    "        if num == 1:\n",
    "            break\n",
    "    for key in i_factors:\n",
    "        factor_map[key] = max(factor_map[key], i_factors[key])\n",
    "factor_map"
   ]
  },
  {
   "cell_type": "code",
   "execution_count": 4,
   "id": "1887175f-cacf-4be0-98e3-5ece1dd0825d",
   "metadata": {},
   "outputs": [
    {
     "data": {
      "text/plain": [
       "232792560"
      ]
     },
     "execution_count": 4,
     "metadata": {},
     "output_type": "execute_result"
    }
   ],
   "source": [
    "reduce(mul, [key ** factor_map[key] for key in factor_map])"
   ]
  }
 ],
 "metadata": {
  "kernelspec": {
   "display_name": "Python 3 (ipykernel)",
   "language": "python",
   "name": "python3"
  },
  "language_info": {
   "codemirror_mode": {
    "name": "ipython",
    "version": 3
   },
   "file_extension": ".py",
   "mimetype": "text/x-python",
   "name": "python",
   "nbconvert_exporter": "python",
   "pygments_lexer": "ipython3",
   "version": "3.13.5"
  }
 },
 "nbformat": 4,
 "nbformat_minor": 5
}
