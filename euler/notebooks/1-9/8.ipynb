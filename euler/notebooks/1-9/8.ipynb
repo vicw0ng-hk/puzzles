{
 "cells": [
  {
   "cell_type": "code",
   "execution_count": 1,
   "id": "43520088-1362-4bdb-98a2-cfeaf05bd9bb",
   "metadata": {},
   "outputs": [],
   "source": [
    "from collections import deque\n",
    "from functools import reduce\n",
    "from operator import mul"
   ]
  },
  {
   "cell_type": "code",
   "execution_count": 2,
   "id": "32193d23-6ccf-4813-86a1-1ba57bfd5c4e",
   "metadata": {},
   "outputs": [],
   "source": [
    "numbers = \"\"\"\n",
    "73167176531330624919225119674426574742355349194934\n",
    "96983520312774506326239578318016984801869478851843\n",
    "85861560789112949495459501737958331952853208805511\n",
    "12540698747158523863050715693290963295227443043557\n",
    "66896648950445244523161731856403098711121722383113\n",
    "62229893423380308135336276614282806444486645238749\n",
    "30358907296290491560440772390713810515859307960866\n",
    "70172427121883998797908792274921901699720888093776\n",
    "65727333001053367881220235421809751254540594752243\n",
    "52584907711670556013604839586446706324415722155397\n",
    "53697817977846174064955149290862569321978468622482\n",
    "83972241375657056057490261407972968652414535100474\n",
    "82166370484403199890008895243450658541227588666881\n",
    "16427171479924442928230863465674813919123162824586\n",
    "17866458359124566529476545682848912883142607690042\n",
    "24219022671055626321111109370544217506941658960408\n",
    "07198403850962455444362981230987879927244284909188\n",
    "84580156166097919133875499200524063689912560717606\n",
    "05886116467109405077541002256983155200055935729725\n",
    "71636269561882670428252483600823257530420752963450\n",
    "\"\"\""
   ]
  },
  {
   "cell_type": "code",
   "execution_count": 3,
   "id": "71689d36-e97b-4f65-b666-c0cce301e727",
   "metadata": {},
   "outputs": [],
   "source": [
    "numbers = numbers.replace(\"\\n\", \"\")"
   ]
  },
  {
   "cell_type": "code",
   "execution_count": 4,
   "id": "da17bc08-dd55-42fc-8a2f-6991c5430609",
   "metadata": {},
   "outputs": [],
   "source": [
    "zero_count = numbers[:13].count('0')\n",
    "product = reduce(mul, [int(n) for n in numbers[:13] if n != 0])\n",
    "ans = product"
   ]
  },
  {
   "cell_type": "code",
   "execution_count": 5,
   "id": "3ba33a60-7c2b-4e5a-b943-7d7b1125a8c3",
   "metadata": {},
   "outputs": [
    {
     "data": {
      "text/plain": [
       "23514624000"
      ]
     },
     "execution_count": 5,
     "metadata": {},
     "output_type": "execute_result"
    }
   ],
   "source": [
    "dq = deque([int(n) for n in numbers[:13]])\n",
    "for pointer in range(13, len(numbers)):\n",
    "    left = dq.popleft()\n",
    "    if left == 0:\n",
    "        zero_count -= 1\n",
    "    else:\n",
    "        product //= left\n",
    "    if (right := int(numbers[pointer])) == 0:\n",
    "        zero_count += 1\n",
    "    else:\n",
    "        product *= right\n",
    "    dq.append(right)\n",
    "    ans = max(ans, product * (0 ** zero_count))\n",
    "ans"
   ]
  }
 ],
 "metadata": {
  "kernelspec": {
   "display_name": "Python 3 (ipykernel)",
   "language": "python",
   "name": "python3"
  },
  "language_info": {
   "codemirror_mode": {
    "name": "ipython",
    "version": 3
   },
   "file_extension": ".py",
   "mimetype": "text/x-python",
   "name": "python",
   "nbconvert_exporter": "python",
   "pygments_lexer": "ipython3",
   "version": "3.13.5"
  }
 },
 "nbformat": 4,
 "nbformat_minor": 5
}
