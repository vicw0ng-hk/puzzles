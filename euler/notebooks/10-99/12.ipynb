{
 "cells": [
  {
   "cell_type": "markdown",
   "id": "0a1c3601-2e8e-41c5-9f82-3ffa60b480a5",
   "metadata": {},
   "source": [
    "[Highly composite triangular numbers](https://oeis.org/A076711)"
   ]
  },
  {
   "cell_type": "code",
   "execution_count": 1,
   "id": "20b4c16a-446f-4428-9caf-b70e062724b5",
   "metadata": {},
   "outputs": [],
   "source": [
    "from functools import cache"
   ]
  },
  {
   "cell_type": "code",
   "execution_count": 2,
   "id": "cd63b2df-94a9-4b61-9340-21a049e7250b",
   "metadata": {},
   "outputs": [],
   "source": [
    "@cache\n",
    "def divisors(n: int) -> int:\n",
    "    divisors_count = 2 if n & 1 == 1 else 3\n",
    "    for d in range(3, n // 2 + 1):\n",
    "        if n % d == 0:\n",
    "            divisors_count += 1\n",
    "    return divisors_count"
   ]
  },
  {
   "cell_type": "code",
   "execution_count": 3,
   "id": "25a6b378-52b6-447a-b424-d076289ecbdf",
   "metadata": {},
   "outputs": [
    {
     "name": "stdout",
     "output_type": "stream",
     "text": [
      "76576500\n"
     ]
    }
   ],
   "source": [
    "i = 8\n",
    "while True:\n",
    "    n = i * (i + 1) // 2\n",
    "    n1, n2 = (i // 2, i + 1) if i & 1 == 0 else (i, (i + 1) // 2)\n",
    "    if divisors(n1) * divisors(n2) > 500:\n",
    "        print(n)\n",
    "        break\n",
    "    i += 1"
   ]
  }
 ],
 "metadata": {
  "kernelspec": {
   "display_name": "Python 3 (ipykernel)",
   "language": "python",
   "name": "python3"
  },
  "language_info": {
   "codemirror_mode": {
    "name": "ipython",
    "version": 3
   },
   "file_extension": ".py",
   "mimetype": "text/x-python",
   "name": "python",
   "nbconvert_exporter": "python",
   "pygments_lexer": "ipython3",
   "version": "3.13.5"
  }
 },
 "nbformat": 4,
 "nbformat_minor": 5
}
