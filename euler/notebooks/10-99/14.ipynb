{
 "cells": [
  {
   "cell_type": "code",
   "execution_count": 1,
   "id": "17fde8d6-c0f0-419d-b523-912674ad76d7",
   "metadata": {},
   "outputs": [],
   "source": [
    "from functools import cache"
   ]
  },
  {
   "cell_type": "code",
   "execution_count": 2,
   "id": "387c0df0-8915-4a42-ac24-0586ac9ff88d",
   "metadata": {},
   "outputs": [],
   "source": [
    "@cache\n",
    "def collatz(n: int) -> int:\n",
    "    return 1 if n == 1 else collatz(n // 2 if n & 1 == 0 else 3 * n + 1) + 1"
   ]
  },
  {
   "cell_type": "code",
   "execution_count": 3,
   "id": "106acd3c-9278-473e-b444-5723e2d22280",
   "metadata": {},
   "outputs": [
    {
     "data": {
      "text/plain": [
       "837799"
      ]
     },
     "execution_count": 3,
     "metadata": {},
     "output_type": "execute_result"
    }
   ],
   "source": [
    "max_len, ans = 10, 13\n",
    "for n in range(14, 1_000_001):\n",
    "    if (count := collatz(n)) > max_len:\n",
    "        max_len, ans = count, n\n",
    "ans"
   ]
  }
 ],
 "metadata": {
  "kernelspec": {
   "display_name": "Python 3 (ipykernel)",
   "language": "python",
   "name": "python3"
  },
  "language_info": {
   "codemirror_mode": {
    "name": "ipython",
    "version": 3
   },
   "file_extension": ".py",
   "mimetype": "text/x-python",
   "name": "python",
   "nbconvert_exporter": "python",
   "pygments_lexer": "ipython3",
   "version": "3.13.5"
  }
 },
 "nbformat": 4,
 "nbformat_minor": 5
}
