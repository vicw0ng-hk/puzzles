{
 "cells": [
  {
   "cell_type": "code",
   "execution_count": 1,
   "id": "b0657c12-3e52-408b-b345-4432f600ab57",
   "metadata": {},
   "outputs": [],
   "source": [
    "num2words = {\n",
    "    1: \"one\",\n",
    "    2: \"two\",\n",
    "    3: \"three\",\n",
    "    4: \"four\",\n",
    "    5: \"five\",\n",
    "    6: \"six\",\n",
    "    7: \"seven\",\n",
    "    8: \"eight\",\n",
    "    9: \"nine\",\n",
    "    10: \"ten\",\n",
    "    11: \"eleven\",\n",
    "    12: \"twelve\",\n",
    "    13: \"thirteen\",\n",
    "    14: \"fourteen\",\n",
    "    15: \"fifteen\",\n",
    "    16: \"sixteen\",\n",
    "    17: \"seventeen\",\n",
    "    18: \"eighteen\",\n",
    "    19: \"nineteen\",\n",
    "    20: \"twenty\",\n",
    "    30: \"thirty\",\n",
    "    40: \"forty\",\n",
    "    50: \"fifty\",\n",
    "    60: \"sixty\",\n",
    "    70: \"seventy\",\n",
    "    80: \"eighty\",\n",
    "    90: \"ninety\",\n",
    "    100: \"hundred\",\n",
    "    1000: \"thousand\"\n",
    "}"
   ]
  },
  {
   "cell_type": "code",
   "execution_count": 2,
   "id": "308598d3-c59d-4cf1-b576-59ffcc6ecc1a",
   "metadata": {},
   "outputs": [],
   "source": [
    "def count_letter(n: int) -> int:\n",
    "    if n == 1000:\n",
    "        return len(num2words[1]) + len(num2words[1000])\n",
    "    length = 0\n",
    "    if n > 99:\n",
    "        length += len(num2words[n//100]) + len(num2words[100])\n",
    "    if (last_two := n % 100) != 0:\n",
    "        if n > 99:\n",
    "            length += len(\"and\")\n",
    "        if last_two < 20:\n",
    "            length += len(num2words[last_two])\n",
    "        else:\n",
    "            length += len(num2words[last_two//10*10])\n",
    "            if last_two % 10 != 0:\n",
    "                length += len(num2words[last_two%10])\n",
    "    return length"
   ]
  },
  {
   "cell_type": "code",
   "execution_count": 3,
   "id": "3c348315-4cea-4384-88ae-1587b4d9fcbd",
   "metadata": {},
   "outputs": [
    {
     "data": {
      "text/plain": [
       "21124"
      ]
     },
     "execution_count": 3,
     "metadata": {},
     "output_type": "execute_result"
    }
   ],
   "source": [
    "ans = 0\n",
    "for n in range(1, 1001):\n",
    "    ans += count_letter(n)\n",
    "ans"
   ]
  }
 ],
 "metadata": {
  "kernelspec": {
   "display_name": "Python 3 (ipykernel)",
   "language": "python",
   "name": "python3"
  },
  "language_info": {
   "codemirror_mode": {
    "name": "ipython",
    "version": 3
   },
   "file_extension": ".py",
   "mimetype": "text/x-python",
   "name": "python",
   "nbconvert_exporter": "python",
   "pygments_lexer": "ipython3",
   "version": "3.13.5"
  }
 },
 "nbformat": 4,
 "nbformat_minor": 5
}
