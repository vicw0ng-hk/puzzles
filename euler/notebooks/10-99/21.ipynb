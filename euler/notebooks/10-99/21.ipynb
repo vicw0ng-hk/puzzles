{
 "cells": [
  {
   "cell_type": "code",
   "execution_count": 1,
   "id": "0b51b30a-3500-429a-b9db-645fdfae7ac0",
   "metadata": {},
   "outputs": [],
   "source": [
    "def divisors(n: int) -> int:\n",
    "    divisors_sum = 1 if n & 1 == 1 else 3\n",
    "    for d in range(3, n // 2 + 1):\n",
    "        if n % d == 0:\n",
    "            divisors_sum += d\n",
    "    return divisors_sum"
   ]
  },
  {
   "cell_type": "code",
   "execution_count": 2,
   "id": "b9c3a7c6-a0c7-489e-bcbf-7bcadb46c35c",
   "metadata": {},
   "outputs": [
    {
     "data": {
      "text/plain": [
       "31626"
      ]
     },
     "execution_count": 2,
     "metadata": {},
     "output_type": "execute_result"
    }
   ],
   "source": [
    "ans = set()\n",
    "for n in range(2, 10001):\n",
    "    if n in ans:\n",
    "        continue\n",
    "    divisors_sum = divisors(n)\n",
    "    if divisors(divisors_sum) == n != divisors_sum:\n",
    "        ans |= {n, divisors_sum}\n",
    "sum(ans)"
   ]
  }
 ],
 "metadata": {
  "kernelspec": {
   "display_name": "Python 3 (ipykernel)",
   "language": "python",
   "name": "python3"
  },
  "language_info": {
   "codemirror_mode": {
    "name": "ipython",
    "version": 3
   },
   "file_extension": ".py",
   "mimetype": "text/x-python",
   "name": "python",
   "nbconvert_exporter": "python",
   "pygments_lexer": "ipython3",
   "version": "3.13.5"
  }
 },
 "nbformat": 4,
 "nbformat_minor": 5
}
