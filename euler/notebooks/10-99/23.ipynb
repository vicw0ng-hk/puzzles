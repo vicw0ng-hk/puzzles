{
 "cells": [
  {
   "cell_type": "code",
   "execution_count": 1,
   "id": "0699a691-c296-4613-b020-09f47b5e605b",
   "metadata": {},
   "outputs": [],
   "source": [
    "from tqdm import tqdm"
   ]
  },
  {
   "cell_type": "code",
   "execution_count": 2,
   "id": "43705d9f-36d5-480e-9487-95fa4cc4b4fe",
   "metadata": {},
   "outputs": [],
   "source": [
    "def divisorsum(n: int) -> int:\n",
    "    divisors_sum = 1 if n & 1 == 1 else 3\n",
    "    for d in range(3, n // 2 + 1):\n",
    "        if n % d == 0:\n",
    "            divisors_sum += d\n",
    "    return divisors_sum"
   ]
  },
  {
   "cell_type": "code",
   "execution_count": 3,
   "id": "ccfce418-a859-44f4-b167-f656c2a6d166",
   "metadata": {},
   "outputs": [
    {
     "name": "stderr",
     "output_type": "stream",
     "text": [
      "100%|███████████████████████████████████████████████████████████████████████████████████████████████████████████████████| 28100/28100 [00:06<00:00, 4359.17it/s]\n"
     ]
    }
   ],
   "source": [
    "l = set()\n",
    "for n in tqdm(range(12, 28124-12)):\n",
    "    if divisorsum(n) > n:\n",
    "        l.add(n)"
   ]
  },
  {
   "cell_type": "code",
   "execution_count": 4,
   "id": "30fd2b5e-9019-41ba-bc6a-daa6ecc0b72a",
   "metadata": {},
   "outputs": [
    {
     "name": "stderr",
     "output_type": "stream",
     "text": [
      "100%|██████████████████████████████████████████████████████████████████████████████████████████████████████████████████| 28122/28122 [00:01<00:00, 27761.27it/s]\n"
     ]
    },
    {
     "data": {
      "text/plain": [
       "4179871"
      ]
     },
     "execution_count": 4,
     "metadata": {},
     "output_type": "execute_result"
    }
   ],
   "source": [
    "abundant_sum = 0\n",
    "for i in tqdm(range(1, 28123)):\n",
    "    for n in l:\n",
    "        if i-n in l:\n",
    "            abundant_sum += i\n",
    "            break\n",
    "sum(range(1, 28123)) - abundant_sum"
   ]
  }
 ],
 "metadata": {
  "kernelspec": {
   "display_name": "Python 3 (ipykernel)",
   "language": "python",
   "name": "python3"
  },
  "language_info": {
   "codemirror_mode": {
    "name": "ipython",
    "version": 3
   },
   "file_extension": ".py",
   "mimetype": "text/x-python",
   "name": "python",
   "nbconvert_exporter": "python",
   "pygments_lexer": "ipython3",
   "version": "3.13.5"
  }
 },
 "nbformat": 4,
 "nbformat_minor": 5
}
