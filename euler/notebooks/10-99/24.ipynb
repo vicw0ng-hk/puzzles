{
 "cells": [
  {
   "cell_type": "code",
   "execution_count": 1,
   "id": "198fd88d-4703-45b4-8dfb-4d61c2775e5b",
   "metadata": {},
   "outputs": [],
   "source": [
    "from math import factorial"
   ]
  },
  {
   "cell_type": "code",
   "execution_count": 2,
   "id": "5770b9b3-b081-421c-aee8-53512e23b992",
   "metadata": {},
   "outputs": [
    {
     "name": "stdout",
     "output_type": "stream",
     "text": [
      "Find the 1,000,000th permutation.\n",
      "Total permutation = 3,265,920\n"
     ]
    }
   ],
   "source": [
    "numbers = [0, 1, 2, 3, 4, 5, 6, 7, 8, 9]\n",
    "rank = 1_000_000\n",
    "print(f\"Find the {rank:,}th permutation.\")\n",
    "print(f\"Total permutation = {factorial(9)*9:,}\")"
   ]
  },
  {
   "cell_type": "code",
   "execution_count": 3,
   "id": "4b7a9b33-9601-4602-88d9-1ef6792214cc",
   "metadata": {},
   "outputs": [],
   "source": [
    "def find_place_rank(rank: int, fact: int) -> int:\n",
    "    return (rank - 1) // factorial(fact)\n",
    "ans = []"
   ]
  },
  {
   "cell_type": "code",
   "execution_count": 4,
   "id": "65302a85-7bba-4ebf-874e-035e23022bb4",
   "metadata": {},
   "outputs": [
    {
     "name": "stdout",
     "output_type": "stream",
     "text": [
      "Choosing digit #1\n",
      "[0, 1, 2, 3, 4, 5, 6, 7, 8, 9] 2\n",
      "Chose digit=2, remaining rank=274,240\n",
      "------\n",
      "Choosing digit #2\n",
      "[0, 1, 3, 4, 5, 6, 7, 8, 9] 6\n",
      "Chose digit=7, remaining rank=32,320\n",
      "------\n",
      "Choosing digit #3\n",
      "[0, 1, 3, 4, 5, 6, 8, 9] 6\n",
      "Chose digit=8, remaining rank=2,080\n",
      "------\n",
      "Choosing digit #4\n",
      "[0, 1, 3, 4, 5, 6, 9] 2\n",
      "Chose digit=3, remaining rank=640\n",
      "------\n",
      "Choosing digit #5\n",
      "[0, 1, 4, 5, 6, 9] 5\n",
      "Chose digit=9, remaining rank=40\n",
      "------\n",
      "Choosing digit #6\n",
      "[0, 1, 4, 5, 6] 1\n",
      "Chose digit=1, remaining rank=16\n",
      "------\n",
      "Choosing digit #7\n",
      "[0, 4, 5, 6] 2\n",
      "Chose digit=5, remaining rank=4\n",
      "------\n",
      "Choosing digit #8\n",
      "[0, 4, 6] 1\n",
      "Chose digit=4, remaining rank=2\n",
      "------\n",
      "Choosing digit #9\n",
      "[0, 6] 1\n",
      "Chose digit=6, remaining rank=1\n",
      "------\n",
      "Choosing digit #10\n",
      "[0] 0\n",
      "Chose digit=0, remaining rank=1\n",
      "------\n"
     ]
    }
   ],
   "source": [
    "for i in range(10, 0, -1):\n",
    "    print(f\"Choosing digit #{11-i}\")\n",
    "    place_rank = find_place_rank(rank, i-1) # 0-indexed\n",
    "    print(numbers, place_rank)\n",
    "    digit = numbers[place_rank]\n",
    "    ans.append(digit)\n",
    "    numbers.remove(digit)\n",
    "    print(f\"Chose {digit=},\", end=\" \")\n",
    "    rank -= place_rank * factorial(i-1)\n",
    "    print(f\"remaining {rank=:,}\")\n",
    "    print(\"------\")"
   ]
  },
  {
   "cell_type": "code",
   "execution_count": 5,
   "id": "372c5571-8e98-48f7-991b-987b805fd607",
   "metadata": {},
   "outputs": [
    {
     "data": {
      "text/plain": [
       "'2783915460'"
      ]
     },
     "execution_count": 5,
     "metadata": {},
     "output_type": "execute_result"
    }
   ],
   "source": [
    "\"\".join(str(n) for n in ans)"
   ]
  }
 ],
 "metadata": {
  "kernelspec": {
   "display_name": "Python 3 (ipykernel)",
   "language": "python",
   "name": "python3"
  },
  "language_info": {
   "codemirror_mode": {
    "name": "ipython",
    "version": 3
   },
   "file_extension": ".py",
   "mimetype": "text/x-python",
   "name": "python",
   "nbconvert_exporter": "python",
   "pygments_lexer": "ipython3",
   "version": "3.13.5"
  }
 },
 "nbformat": 4,
 "nbformat_minor": 5
}
