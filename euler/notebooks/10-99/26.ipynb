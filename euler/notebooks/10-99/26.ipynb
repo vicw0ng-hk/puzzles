{
 "cells": [
  {
   "cell_type": "code",
   "execution_count": 1,
   "id": "cde17b8e-198d-4820-a352-6b0612144652",
   "metadata": {},
   "outputs": [],
   "source": [
    "from math import log2, gcd"
   ]
  },
  {
   "cell_type": "code",
   "execution_count": 2,
   "id": "c24baccd-dc25-40ff-b3c4-0b593c61d0e8",
   "metadata": {},
   "outputs": [],
   "source": [
    "twos_fives = {1}\n",
    "for i in range(1, 10):\n",
    "    twos_fives.add(2**i)\n",
    "for i in range(1, 5):\n",
    "    twos_fives.add(5**i)\n",
    "for i in range(1, 5):\n",
    "    for j in range(1, int(log2(1000//(5**i)))+1):\n",
    "        twos_fives.add(5**i * 2**j)\n",
    "nums = [i for i in range(2, 1001) if i not in twos_fives]"
   ]
  },
  {
   "cell_type": "code",
   "execution_count": 3,
   "id": "c2a53c02-b3ea-4f79-8cb7-b6c0dbc762c5",
   "metadata": {},
   "outputs": [],
   "source": [
    "def repeating_length(n: int) -> int:\n",
    "    i = 1\n",
    "    while n // gcd((10**i - 1), n) not in twos_fives:\n",
    "        i += 1\n",
    "    return i"
   ]
  },
  {
   "cell_type": "code",
   "execution_count": 4,
   "id": "807ea6bd-ba34-4061-aecc-58b51d5e902a",
   "metadata": {},
   "outputs": [],
   "source": [
    "lengths = {}\n",
    "for i in range(len(nums)):\n",
    "    lengths[nums[i]] = repeating_length(nums[i])"
   ]
  },
  {
   "cell_type": "code",
   "execution_count": 5,
   "id": "ce2c43dd-5a7f-4f2d-a268-2b9855361b69",
   "metadata": {},
   "outputs": [
    {
     "data": {
      "text/plain": [
       "{983: 982}"
      ]
     },
     "execution_count": 5,
     "metadata": {},
     "output_type": "execute_result"
    }
   ],
   "source": [
    "{k:lengths[k] for k in lengths.keys() if lengths[k] == max(lengths.values())}"
   ]
  },
  {
   "cell_type": "markdown",
   "id": "a78ae07a-1217-4a58-9726-fde2d55a760d",
   "metadata": {},
   "source": [
    "For a positive integer $n$, the length of the repeating section of $1/n$'s decimal representation is at most $n-1$. You only need to think about the remainder of each step in the long division and apply pigeon hole. "
   ]
  }
 ],
 "metadata": {
  "kernelspec": {
   "display_name": "Python 3 (ipykernel)",
   "language": "python",
   "name": "python3"
  },
  "language_info": {
   "codemirror_mode": {
    "name": "ipython",
    "version": 3
   },
   "file_extension": ".py",
   "mimetype": "text/x-python",
   "name": "python",
   "nbconvert_exporter": "python",
   "pygments_lexer": "ipython3",
   "version": "3.13.5"
  }
 },
 "nbformat": 4,
 "nbformat_minor": 5
}
