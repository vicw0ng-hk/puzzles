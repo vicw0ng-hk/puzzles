{
 "cells": [
  {
   "cell_type": "code",
   "execution_count": 8,
   "id": "c4340c9d-80d8-4c1e-a943-693e468ff98b",
   "metadata": {},
   "outputs": [],
   "source": [
    "def f():\n",
    "    for i in range(3):\n",
    "        yield i"
   ]
  },
  {
   "cell_type": "code",
   "execution_count": 14,
   "id": "65d25ab6-fe53-4cec-a9ab-fca2397e89bb",
   "metadata": {},
   "outputs": [
    {
     "name": "stdout",
     "output_type": "stream",
     "text": [
      "METHOD\n"
     ]
    }
   ],
   "source": [
    "from string import *\n",
    "methods=\"METHODS\"\n",
    "def x(methods):\n",
    "    method = str.swapcase(methods)\n",
    "    print(\"%(method)s\" % locals ())\n",
    "methods=str.swapcase(method[:-1])\n",
    "x(methods)\n"
   ]
  },
  {
   "cell_type": "code",
   "execution_count": 6,
   "id": "0748f267-a2b4-40aa-8924-3c4e60d8291a",
   "metadata": {},
   "outputs": [
    {
     "name": "stdout",
     "output_type": "stream",
     "text": [
      "3\n",
      "5\n",
      "5\n",
      "5\n",
      "7\n",
      "7\n",
      "7\n",
      "7\n",
      "7\n",
      "9\n"
     ]
    }
   ],
   "source": [
    "for n in range(2, 10):\n",
    "    for x in range(2, n):\n",
    "        if n%x == 0:\n",
    "            break\n",
    "        else:\n",
    "            print(n)"
   ]
  },
  {
   "cell_type": "code",
   "execution_count": 20,
   "id": "0e8ce998-cec3-43e9-9a2f-d974ff5352e1",
   "metadata": {},
   "outputs": [
    {
     "data": {
      "text/plain": [
       "0"
      ]
     },
     "execution_count": 20,
     "metadata": {},
     "output_type": "execute_result"
    }
   ],
   "source": [
    "class I():\n",
    "    num = 0\n",
    "    \n",
    "    def __init__(self):\n",
    "        self.value = 0\n",
    "    \n",
    "    def method(self):\n",
    "        return\n",
    "    \n",
    "    def methodA(self):\n",
    "        I.num = 0\n",
    "    \n",
    "    def methodB(self):\n",
    "        I.num = I.num + 1\n",
    "    \n",
    "    def methodC(self):\n",
    "        self.value += 1\n",
    "    \n",
    "    def methodD(cls):\n",
    "        I.num = I.num + 1\n",
    "    methodD = classmethod(methodD)\n",
    "    \n",
    "    def methodE(cls):\n",
    "        return I.num\n",
    "    methodE = classmethod(methodE)\n",
    "    \n",
    "    def methodF():\n",
    "        return I.num\n",
    "    methodF = staticmethod(methodF)\n",
    "    \n",
    "    def methodG(self):\n",
    "        self.value = self.value + 1\n",
    "    \n",
    "    def methodH(self):\n",
    "        self.value = I.num\n",
    "        return\n",
    "\n",
    "K = I()\n",
    "\n",
    "# -- I.methodB()\n",
    "\n",
    "# K.methodE()\n",
    "\n",
    "# -- I.methodH()\n",
    "\n",
    "# K.methodG()\n",
    "\n",
    "# I.methodF()"
   ]
  }
 ],
 "metadata": {
  "kernelspec": {
   "display_name": "Python 3 (ipykernel)",
   "language": "python",
   "name": "python3"
  },
  "language_info": {
   "codemirror_mode": {
    "name": "ipython",
    "version": 3
   },
   "file_extension": ".py",
   "mimetype": "text/x-python",
   "name": "python",
   "nbconvert_exporter": "python",
   "pygments_lexer": "ipython3",
   "version": "3.13.5"
  }
 },
 "nbformat": 4,
 "nbformat_minor": 5
}
