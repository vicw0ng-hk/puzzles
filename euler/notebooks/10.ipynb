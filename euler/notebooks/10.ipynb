{
 "cells": [
  {
   "cell_type": "code",
   "execution_count": 1,
   "id": "c5d15c18-e7fe-41e7-8159-4bac447a37df",
   "metadata": {},
   "outputs": [],
   "source": [
    "def prime_generator(end: int):\n",
    "    def is_prime(n: int) -> int:\n",
    "        if n < 2: return False\n",
    "        return n & 1 and all(n % i != 0 for i in range(3, int(n ** 0.5) + 1, 2))\n",
    "    yield 2\n",
    "    for n in range(3, end + 1, 2):\n",
    "        if is_prime(n):\n",
    "            yield n"
   ]
  },
  {
   "cell_type": "code",
   "execution_count": 2,
   "id": "796d03ed-409d-454f-946e-d68331336cf7",
   "metadata": {},
   "outputs": [
    {
     "data": {
      "text/plain": [
       "142913828922"
      ]
     },
     "execution_count": 2,
     "metadata": {},
     "output_type": "execute_result"
    }
   ],
   "source": [
    "p_gen = prime_generator(2_000_000)\n",
    "sum(p for p in p_gen)"
   ]
  }
 ],
 "metadata": {
  "kernelspec": {
   "display_name": "Python 3 (ipykernel)",
   "language": "python",
   "name": "python3"
  },
  "language_info": {
   "codemirror_mode": {
    "name": "ipython",
    "version": 3
   },
   "file_extension": ".py",
   "mimetype": "text/x-python",
   "name": "python",
   "nbconvert_exporter": "python",
   "pygments_lexer": "ipython3",
   "version": "3.13.5"
  }
 },
 "nbformat": 4,
 "nbformat_minor": 5
}
