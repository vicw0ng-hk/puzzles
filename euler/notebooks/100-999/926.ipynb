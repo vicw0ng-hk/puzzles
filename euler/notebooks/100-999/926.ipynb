{
 "cells": [
  {
   "cell_type": "code",
   "execution_count": 1,
   "id": "7580dcae-07c3-4937-ad2e-1a3221d43cfa",
   "metadata": {},
   "outputs": [],
   "source": [
    "from math import log\n",
    "from tqdm import tqdm\n",
    "from typing import List\n",
    "\n",
    "ten_mil = 10_000_000\n",
    "MOD = 10**9 + 7"
   ]
  },
  {
   "cell_type": "code",
   "execution_count": 2,
   "id": "f4f4024b-b5a4-41b9-833f-0c111f04f54e",
   "metadata": {},
   "outputs": [],
   "source": [
    "def prime_sieve(n: int) -> List[int]:\n",
    "    primes = [True] * (n + 1)\n",
    "    primes[0] = primes[1] = False\n",
    "    for i in range(2, int(n**0.5) + 1):\n",
    "        if primes[i]:\n",
    "            for j in range(i * i, n + 1, i):\n",
    "                primes[j] = False\n",
    "    return [x for x in range(n + 1) if primes[x]]\n",
    "primes = prime_sieve(ten_mil)"
   ]
  },
  {
   "cell_type": "code",
   "execution_count": 3,
   "id": "2ca08746-05bd-495c-8405-1faed8a21ee2",
   "metadata": {},
   "outputs": [],
   "source": [
    "total_factors = []\n",
    "for p in primes:\n",
    "    pe = 1\n",
    "    factor = 0\n",
    "    for e in range(1, int(log(ten_mil, p)) + 1):\n",
    "        pe *= p\n",
    "        factor += int(ten_mil//pe)\n",
    "    total_factors.append(factor)"
   ]
  },
  {
   "cell_type": "code",
   "execution_count": 4,
   "id": "6c4bcaf4-c82d-43d5-ab7e-dd4ef12b71a4",
   "metadata": {},
   "outputs": [
    {
     "name": "stderr",
     "output_type": "stream",
     "text": [
      "100%|████████████████████████████████████████████████████████████████████████████████████████████████████████████| 9999992/9999992 [00:07<00:00, 1254342.64it/s]\n"
     ]
    },
    {
     "data": {
      "text/plain": [
       "40410219"
      ]
     },
     "execution_count": 4,
     "metadata": {},
     "output_type": "execute_result"
    }
   ],
   "source": [
    "total = 0\n",
    "for k in tqdm(range(1, total_factors[0] + 1)):\n",
    "    prod = 1\n",
    "    for e in total_factors:\n",
    "        if e < k:\n",
    "            break\n",
    "        prod = (prod * (e//k + 1)) % MOD\n",
    "    total = (total + prod - 1) % MOD\n",
    "total"
   ]
  }
 ],
 "metadata": {
  "kernelspec": {
   "display_name": "Python 3 (ipykernel)",
   "language": "python",
   "name": "python3"
  },
  "language_info": {
   "codemirror_mode": {
    "name": "ipython",
    "version": 3
   },
   "file_extension": ".py",
   "mimetype": "text/x-python",
   "name": "python",
   "nbconvert_exporter": "python",
   "pygments_lexer": "ipython3",
   "version": "3.13.5"
  }
 },
 "nbformat": 4,
 "nbformat_minor": 5
}
