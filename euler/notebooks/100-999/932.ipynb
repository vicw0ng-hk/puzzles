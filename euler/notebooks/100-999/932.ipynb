{
 "cells": [
  {
   "cell_type": "code",
   "execution_count": 1,
   "id": "fd6704d8-1dac-49e9-8e52-aeff20821606",
   "metadata": {},
   "outputs": [],
   "source": [
    "from tqdm import tqdm"
   ]
  },
  {
   "cell_type": "code",
   "execution_count": 2,
   "id": "830de024-c203-4699-8d2f-64c47d09d4a6",
   "metadata": {},
   "outputs": [
    {
     "name": "stderr",
     "output_type": "stream",
     "text": [
      "100%|██████████████████████████████████████████████████████████████████████████████████████████████████████████| 99999996/99999996 [01:11<00:00, 1394146.76it/s]\n"
     ]
    },
    {
     "data": {
      "text/plain": [
       "72673459417881349"
      ]
     },
     "execution_count": 2,
     "metadata": {},
     "output_type": "execute_result"
    }
   ],
   "source": [
    "ans = []\n",
    "for i in tqdm(range(4, 10**8)):\n",
    "    square = str(i ** 2)\n",
    "    mid = len(square) // 2\n",
    "    a, b = square[:mid], square[mid:]\n",
    "    if b[0] != '0' and int(a) + int(b) == i:\n",
    "        ans.append(int(square))\n",
    "    if len(square) & 1 == 1:\n",
    "        a, b = square[:mid+1], square[mid+1:]\n",
    "        if b[0] != '0' and int(a) + int(b) == i:\n",
    "            ans.append(int(square))\n",
    "sum(ans)"
   ]
  }
 ],
 "metadata": {
  "kernelspec": {
   "display_name": "Python 3 (ipykernel)",
   "language": "python",
   "name": "python3"
  },
  "language_info": {
   "codemirror_mode": {
    "name": "ipython",
    "version": 3
   },
   "file_extension": ".py",
   "mimetype": "text/x-python",
   "name": "python",
   "nbconvert_exporter": "python",
   "pygments_lexer": "ipython3",
   "version": "3.13.5"
  }
 },
 "nbformat": 4,
 "nbformat_minor": 5
}
