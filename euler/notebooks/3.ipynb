{
 "cells": [
  {
   "cell_type": "code",
   "execution_count": 1,
   "id": "1f095252-0a45-43e9-a265-c8249160dfa1",
   "metadata": {},
   "outputs": [],
   "source": [
    "def prime_generator_desc(start: int):\n",
    "    def is_prime(n: int) -> bool:\n",
    "        if n < 2: return False\n",
    "        return n & 1 and all(n % i != 0 for i in range(3, int(n ** 0.5) + 1, 2))\n",
    "    n = int(start ** 0.5)\n",
    "    if n & 1 == 0:\n",
    "        n -= 1\n",
    "    while n > 2:\n",
    "        if is_prime(n):\n",
    "            yield n\n",
    "        n -= 2\n",
    "    yield 2"
   ]
  },
  {
   "cell_type": "code",
   "execution_count": 2,
   "id": "ee0d2421-0924-47a8-830e-74c993d6fe28",
   "metadata": {},
   "outputs": [
    {
     "data": {
      "text/plain": [
       "6857"
      ]
     },
     "execution_count": 2,
     "metadata": {},
     "output_type": "execute_result"
    }
   ],
   "source": [
    "gen = prime_generator_desc(600851475143)\n",
    "ans = None\n",
    "for num in gen:\n",
    "    if 600851475143 % num == 0:\n",
    "        ans = num\n",
    "        break\n",
    "ans"
   ]
  }
 ],
 "metadata": {
  "kernelspec": {
   "display_name": "Python 3 (ipykernel)",
   "language": "python",
   "name": "python3"
  },
  "language_info": {
   "codemirror_mode": {
    "name": "ipython",
    "version": 3
   },
   "file_extension": ".py",
   "mimetype": "text/x-python",
   "name": "python",
   "nbconvert_exporter": "python",
   "pygments_lexer": "ipython3",
   "version": "3.13.5"
  }
 },
 "nbformat": 4,
 "nbformat_minor": 5
}
