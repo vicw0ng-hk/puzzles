{
 "cells": [
  {
   "cell_type": "code",
   "execution_count": 1,
   "id": "81e6c2da-d9d9-4413-a47f-a2bce6942da2",
   "metadata": {},
   "outputs": [
    {
     "data": {
      "text/plain": [
       "906609"
      ]
     },
     "execution_count": 1,
     "metadata": {},
     "output_type": "execute_result"
    }
   ],
   "source": [
    "def solve() -> int:\n",
    "    for i in range(999, 99, -1):\n",
    "        palindrome = int(str(i) + str(i)[::-1])\n",
    "        for j in range(int(palindrome ** 0.5), 100, -1):\n",
    "            if palindrome % j == 0 and 0 < palindrome // j // 100 < 10:\n",
    "                return palindrome\n",
    "solve()"
   ]
  }
 ],
 "metadata": {
  "kernelspec": {
   "display_name": "Python 3 (ipykernel)",
   "language": "python",
   "name": "python3"
  },
  "language_info": {
   "codemirror_mode": {
    "name": "ipython",
    "version": 3
   },
   "file_extension": ".py",
   "mimetype": "text/x-python",
   "name": "python",
   "nbconvert_exporter": "python",
   "pygments_lexer": "ipython3",
   "version": "3.13.5"
  }
 },
 "nbformat": 4,
 "nbformat_minor": 5
}
