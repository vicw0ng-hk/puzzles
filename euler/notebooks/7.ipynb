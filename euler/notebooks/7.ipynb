{
 "cells": [
  {
   "cell_type": "code",
   "execution_count": 1,
   "id": "f119dbe5-8770-43e0-b69b-47f132cc3188",
   "metadata": {},
   "outputs": [],
   "source": [
    "def prime_generator():\n",
    "    def is_prime(n: int) -> int:\n",
    "        if n < 2: return False\n",
    "        return n & 1 and all(n % i != 0 for i in range(3, int(n ** 0.5) + 1, 2))\n",
    "    yield 2\n",
    "    n = 3\n",
    "    while True:\n",
    "        if is_prime(n):\n",
    "            yield n\n",
    "        n += 2"
   ]
  },
  {
   "cell_type": "code",
   "execution_count": 2,
   "id": "60468741-fc31-4910-9c3e-d66e0b6871ea",
   "metadata": {},
   "outputs": [
    {
     "data": {
      "text/plain": [
       "104743"
      ]
     },
     "execution_count": 2,
     "metadata": {},
     "output_type": "execute_result"
    }
   ],
   "source": [
    "p_gen = prime_generator()\n",
    "for _ in range(10001):\n",
    "    prime = next(p_gen)\n",
    "prime"
   ]
  }
 ],
 "metadata": {
  "kernelspec": {
   "display_name": "Python 3 (ipykernel)",
   "language": "python",
   "name": "python3"
  },
  "language_info": {
   "codemirror_mode": {
    "name": "ipython",
    "version": 3
   },
   "file_extension": ".py",
   "mimetype": "text/x-python",
   "name": "python",
   "nbconvert_exporter": "python",
   "pygments_lexer": "ipython3",
   "version": "3.13.5"
  }
 },
 "nbformat": 4,
 "nbformat_minor": 5
}
