{
 "cells": [
  {
   "cell_type": "markdown",
   "id": "e9a1afec-f0fb-48af-8e95-9d6e9f11776e",
   "metadata": {},
   "source": [
    "Use [Euclid's formula](https://en.wikipedia.org/wiki/Pythagorean_triple):\n",
    "$$a = m^2 - n^2, b = 2mn, c = m^2 + n^2$$\n",
    "Hence, we want to find $m, n$, such that\n",
    "$$a + b + c = 2m(m+n) = 1000$$"
   ]
  },
  {
   "cell_type": "code",
   "execution_count": 1,
   "id": "fbcdbbf5-0f17-4d40-9f2a-4b21d2d89a2b",
   "metadata": {},
   "outputs": [
    {
     "name": "stdout",
     "output_type": "stream",
     "text": [
      "31875000\n"
     ]
    }
   ],
   "source": [
    "for m in range(3, int(1000 ** 0.5) + 1):\n",
    "    if 500 % m != 0:\n",
    "        continue\n",
    "    n = 500 // m - m\n",
    "    if 0 < n:\n",
    "        a = m**2 - n**2\n",
    "        b = 2*m*n\n",
    "        c = m**2 + n**2\n",
    "try:\n",
    "    print(a*b*c)\n",
    "except NameError:\n",
    "    print(\"Not Found\")"
   ]
  }
 ],
 "metadata": {
  "kernelspec": {
   "display_name": "Python 3 (ipykernel)",
   "language": "python",
   "name": "python3"
  },
  "language_info": {
   "codemirror_mode": {
    "name": "ipython",
    "version": 3
   },
   "file_extension": ".py",
   "mimetype": "text/x-python",
   "name": "python",
   "nbconvert_exporter": "python",
   "pygments_lexer": "ipython3",
   "version": "3.13.5"
  }
 },
 "nbformat": 4,
 "nbformat_minor": 5
}
